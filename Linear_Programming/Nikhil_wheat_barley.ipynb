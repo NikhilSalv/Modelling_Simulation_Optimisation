{
 "cells": [
  {
   "cell_type": "markdown",
   "metadata": {},
   "source": [
    "*A small farm needs to make decision how much wheat and\n",
    "how much barley they should grow.*\n",
    "* The farm size is 40ha, the farm has 50,000€ cash reserves\n",
    "* The production costs (ploughing, insecticides, fungicides,\n",
    "fertiliser, harvesting) add up to 1,150€/ha for barley and\n",
    "1,360€/ha for wheat.\n",
    "* In 2018 the yield for wheat was 10t/ha, for barley 9t/ha.\n",
    "* The expected price for wheat is 170€/t and for barley\n",
    "170€/t.\n",
    "* The price for wheat straw is 243€/ha and for barley straw is 300€/ha.\n",
    "\n",
    "> What would be the optimal breakdown for wheat and\n",
    "barley and the margin at the end of the year?"
   ]
  },
  {
   "cell_type": "markdown",
   "metadata": {},
   "source": [
    "- Area of Wheat = $ X_w $\n",
    "- Area of Barley = $ X_b $\n",
    "- Farm size = 40 Hectors\n",
    "- Reserves = EUR 50,000\n",
    "- Barley Production Expenses ($ k_b $ )= 1150 EUR / ha\n",
    "- Wheat Production Expenses ($ k_w $ ) = 1360 EUR / ha\n",
    "- Income = 170 W + 170 B (per tonn)\n",
    "- Income for straw = 243 W + 300 B (per hecter)\n",
    "\n",
    "> We have to mazimise >> Hector for W + Hector for B <= 40 Hectors\n",
    "\n",
    "> $ X_w +  X_b \\le 40 $\n",
    "\n",
    "*Depending upon the constraints of expenses and area, the equation could be written as :*\n",
    "\n",
    "> $ k_w * X_w + k_b * X_b \\le 50,000 $"
   ]
  },
  {
   "cell_type": "code",
   "execution_count": 44,
   "metadata": {},
   "outputs": [],
   "source": [
    "import scipy.optimize as opt"
   ]
  },
  {
   "cell_type": "code",
   "execution_count": 45,
   "metadata": {},
   "outputs": [],
   "source": [
    "cost_wheat = 1360 # EUR /  hactor\n",
    "cost_barley = 1150 # EUR /  hactor"
   ]
  },
  {
   "cell_type": "code",
   "execution_count": 46,
   "metadata": {},
   "outputs": [],
   "source": [
    "reserves = 50000\n",
    "farm_size = 40"
   ]
  },
  {
   "cell_type": "code",
   "execution_count": 47,
   "metadata": {},
   "outputs": [
    {
     "data": {
      "text/plain": [
       "583"
      ]
     },
     "execution_count": 47,
     "metadata": {},
     "output_type": "execute_result"
    }
   ],
   "source": [
    "price_of_wheat = 170 # EUR /tonn\n",
    "yield_of_wheat = 10 # tonn / hector\n",
    "price_of_wheat_straw = 243 # EUR / hector\n",
    "income_of_wheat = price_of_wheat * yield_of_wheat + price_of_wheat_straw # EUR / hector\n",
    "profit_of_wheat =income_of_wheat - cost_wheat # EUR / hector\n",
    "profit_of_wheat"
   ]
  },
  {
   "cell_type": "code",
   "execution_count": 48,
   "metadata": {},
   "outputs": [
    {
     "data": {
      "text/plain": [
       "500"
      ]
     },
     "execution_count": 48,
     "metadata": {},
     "output_type": "execute_result"
    }
   ],
   "source": [
    "price_of_barley = 150 # EUR /tonn\n",
    "yield_of_barley = 9 # tonn/hector\n",
    "price_of_barley_straw = 300 #EUR/hector\n",
    "\n",
    "income_of_barley = price_of_barley * yield_of_barley + price_of_barley_straw\n",
    "profit_of_barley = income_of_barley - cost_barley\n",
    "profit_of_barley"
   ]
  },
  {
   "cell_type": "markdown",
   "metadata": {},
   "source": [
    "**We need to maximise the following constraints:**\n",
    "\n",
    "* Area to be utilized of the farm\n",
    "\n",
    "> $ X_w + X_b \\le 40 $\n",
    "\n",
    "* reserves for the production cost\n",
    "\n",
    "> $ 1360 X_w + 1150 X_b \\le 50,000 $ \n",
    "\n",
    "**and we need to maximise the profit of wheat and barley**\n",
    "> profit_of_wheat * Area in hector for wheat + profit_of_barley * Area in hector for barley\n",
    "\n",
    ">> $ (profit  of  wheat) * X_w + (profit of barley) * X_b $\n",
    "\n"
   ]
  },
  {
   "cell_type": "code",
   "execution_count": 49,
   "metadata": {},
   "outputs": [],
   "source": [
    "A = [[1,1] , [cost_wheat,cost_barley]]\n",
    "b = [farm_size,reserves]\n",
    "c = [-profit_of_wheat, -profit_of_barley]\n",
    "bounds = [(0,farm_size),(0,farm_size)]"
   ]
  },
  {
   "cell_type": "code",
   "execution_count": 50,
   "metadata": {},
   "outputs": [
    {
     "data": {
      "text/plain": [
       "     con: array([], dtype=float64)\n",
       "     fun: -21580.95238069383\n",
       " message: 'Optimization terminated successfully.'\n",
       "     nit: 5\n",
       "   slack: array([8.95894914e-10, 5.51081030e-07])\n",
       "  status: 0\n",
       " success: True\n",
       "       x: array([19.04761905, 20.95238095])"
      ]
     },
     "execution_count": 50,
     "metadata": {},
     "output_type": "execute_result"
    }
   ],
   "source": [
    "res = opt.linprog(c, A, b, bounds= bounds)\n",
    "res"
   ]
  },
  {
   "cell_type": "code",
   "execution_count": 51,
   "metadata": {},
   "outputs": [
    {
     "data": {
      "text/plain": [
       "-21580.95238069383"
      ]
     },
     "execution_count": 51,
     "metadata": {},
     "output_type": "execute_result"
    }
   ],
   "source": [
    "res.fun"
   ]
  },
  {
   "cell_type": "code",
   "execution_count": 52,
   "metadata": {},
   "outputs": [
    {
     "name": "stdout",
     "output_type": "stream",
     "text": [
      "Using 19 hectors for wheat and \n",
      " 21 hectors for Barley, \n",
      " the profit is 21581\n"
     ]
    }
   ],
   "source": [
    "print(f\"Using {res.x[0]:2.0f} hectors for wheat and \\n {res.x[1]:2.0f} hectors for Barley, \\n the profit is {- res.fun:2.0f}\")"
   ]
  },
  {
   "cell_type": "markdown",
   "metadata": {},
   "source": [
    "| Reserves | Price of Wheat | Price of Barley | Area for Wheat | Area for Barley | Total Profit |\n",
    "| --- | --- |--- | --- |--- | --- |\n",
    "| 50,000 | 170 | 170 | 0 | 40 | 27200 |\n",
    "| 50,000 | 170 | 150 | 19 | 21 | 21581 |"
   ]
  },
  {
   "cell_type": "code",
   "execution_count": null,
   "metadata": {},
   "outputs": [],
   "source": []
  }
 ],
 "metadata": {
  "kernelspec": {
   "display_name": "Python 3",
   "language": "python",
   "name": "python3"
  },
  "language_info": {
   "codemirror_mode": {
    "name": "ipython",
    "version": 3
   },
   "file_extension": ".py",
   "mimetype": "text/x-python",
   "name": "python",
   "nbconvert_exporter": "python",
   "pygments_lexer": "ipython3",
   "version": "3.8.3"
  }
 },
 "nbformat": 4,
 "nbformat_minor": 4
}
